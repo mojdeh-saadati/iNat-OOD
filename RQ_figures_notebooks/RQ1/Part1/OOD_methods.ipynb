{
 "cells": [
  {
   "cell_type": "code",
   "execution_count": 6,
   "metadata": {},
   "outputs": [],
   "source": [
    "def SMT(model, inDistTrain_loader, inDistValid_loader, outDistValid_loader):\n",
    "    # No inference is needed. Prediction  \n",
    "\n",
    "    # In Distribution data values    \n",
    "    ################################################################################    \n",
    "    device = torch.device(\"cuda\")\n",
    "    model.to(device)\n",
    "    softmax_indist = []\n",
    "    inDistValid_y = []\n",
    "    test_loss = 0\n",
    "    accuracy = 0\n",
    "    model.eval()\n",
    "    print(\"passed model eval\")\n",
    "    with torch.no_grad():\n",
    "        for inputs, labels in inDistValid_loader:\n",
    "            inputs, labels = inputs.to(device),labels.to(device)\n",
    "            labels_np = labels.cpu().detach().numpy()\n",
    "            if len(inDistValid_y) == 0:\n",
    "                inDistValid_y = labels_np\n",
    "            else:\n",
    "                inDistValid_y = np.concatenate((inDistValid_y,labels_np), axis = 0)   \n",
    "            \n",
    "            logps = model.forward(inputs)\n",
    "            sf= torch.nn.Softmax(dim=1)\n",
    "            softmax = sf(logps)\n",
    "            softmax = softmax.cpu().detach().numpy()\n",
    "            if len(softmax_indist) == 0:\n",
    "                softmax_indist  =  softmax\n",
    "            else:\n",
    "                softmax_indist  =  np.concatenate((softmax_indist,softmax), axis = 0)  \n",
    "        \n",
    "        \n",
    "    # Out distribution data values     \n",
    "    ################################################################################\n",
    "    \n",
    "    device = torch.device(\"cuda\")\n",
    "    model.to(device)\n",
    "    softmax_outdist = []\n",
    "    outDistValid_y = []\n",
    "    test_loss = 0\n",
    "    accuracy = 0\n",
    "    model.eval()\n",
    "    with torch.no_grad():\n",
    "        for inputs, labels in outDistValid_loader:\n",
    "            inputs, labels = inputs.to(device),labels.to(device)\n",
    "            labels_np = labels.cpu().detach().numpy()\n",
    "            if len(outDistValid_y) == 0:\n",
    "                outDistValid_y = labels_np\n",
    "            else:\n",
    "                outDistValid_y = np.concatenate((outDistValid_y,labels_np), axis = 0)   \n",
    "            \n",
    "            logps = model.forward(inputs)\n",
    "            sf= torch.nn.Softmax(dim=1)\n",
    "            softmax = sf(logps)\n",
    "            softmax = softmax.cpu().detach().numpy()\n",
    "            if len(softmax_outdist) == 0:\n",
    "                softmax_outdist  =  softmax\n",
    "            else:\n",
    "                softmax_outdist  =  np.concatenate((softmax_outdist,softmax), axis = 0)        \n",
    "                \n",
    "    # In Distribution data values    \n",
    "    ################################################################################    \n",
    "    def entropy_from_distribution(p, axis):\n",
    "    #return np.log(10.) + np.sum(p * np.log(np.abs(p) + 1e-11), axis=1, keepdims=True)\n",
    "        return np.sum(p * np.log(np.abs(p) + 1e-11), axis=1, keepdims=True)\n",
    "\n",
    "    def print_curve_info(safe, risky, inverse=False):\n",
    "        labels = np.zeros((safe.shape[0] + risky.shape[0]), dtype=np.int32)\n",
    "        if inverse:\n",
    "            labels[safe.shape[0]:] += 1\n",
    "        else:\n",
    "            labels[:safe.shape[0]] += 1\n",
    "        examples = np.squeeze(np.vstack((safe, risky)))\n",
    "        print('AUPR (%):', round(100*sk.average_precision_score(labels, examples), 2))\n",
    "        print('AUROC (%):', round(100*sk.roc_auc_score(labels, examples), 2))\n",
    "\n",
    "        \n",
    "    def entropy_stats(softmax):\n",
    "        s_prob = np.amax(softmax, axis=1, keepdims=True)\n",
    "\n",
    "        kl_all = entropy_from_distribution(softmax, axis=1)\n",
    "        mean_all, var_all = np.mean(kl_all), np.var(kl_all)\n",
    "        return s_prob, kl_all, mean_all, var_all\n",
    "    \n",
    "\n",
    "    (s_prob_in, kl_in, mean_in, var_in) = entropy_stats(softmax_indist)\n",
    "    (s_prob_out, kl_out, mean_out, var_out) = entropy_stats(softmax_outdist)\n",
    "    print_curve_info(-s_prob_in, -s_prob_out, True)\n",
    "    return 1;\n",
    "                "
   ]
  },
  {
   "cell_type": "code",
   "execution_count": 2,
   "metadata": {},
   "outputs": [],
   "source": [
    "def MAH(model, inDistTrain, inDistValid, outDistValid):\n",
    "    return 2\n"
   ]
  },
  {
   "cell_type": "code",
   "execution_count": 3,
   "metadata": {},
   "outputs": [],
   "source": [
    "def EBM(model, inDistTrain, inDistValid, outDistValid):\n",
    "    return 3;"
   ]
  },
  {
   "cell_type": "code",
   "execution_count": null,
   "metadata": {},
   "outputs": [],
   "source": []
  }
 ],
 "metadata": {
  "kernelspec": {
   "display_name": "Python 3",
   "language": "python",
   "name": "python3"
  },
  "language_info": {
   "codemirror_mode": {
    "name": "ipython",
    "version": 3
   },
   "file_extension": ".py",
   "mimetype": "text/x-python",
   "name": "python",
   "nbconvert_exporter": "python",
   "pygments_lexer": "ipython3",
   "version": "3.6.8"
  },
  "vscode": {
   "interpreter": {
    "hash": "916dbcbb3f70747c44a77c7bcd40155683ae19c65e1c03b4aa3499c5328201f1"
   }
  }
 },
 "nbformat": 4,
 "nbformat_minor": 2
}
