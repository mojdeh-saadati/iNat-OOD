{
 "cells": [
  {
   "cell_type": "code",
   "execution_count": 12,
   "id": "de8df133",
   "metadata": {},
   "outputs": [],
   "source": [
    "import os\n",
    "import re\n",
    "folders=os.listdir('/work/baskarg/Mojdeh/iNat_Project-mini-Insecta-2021/Data/Others/iNat_ISU_total/iNat_ISU/val/Apis mellifera')"
   ]
  },
  {
   "cell_type": "code",
   "execution_count": 13,
   "id": "7a810cd1",
   "metadata": {},
   "outputs": [
    {
     "data": {
      "text/plain": [
       "26047"
      ]
     },
     "execution_count": 13,
     "metadata": {},
     "output_type": "execute_result"
    }
   ],
   "source": [
    "len(folders)"
   ]
  },
  {
   "cell_type": "code",
   "execution_count": 14,
   "id": "372818bd",
   "metadata": {},
   "outputs": [
    {
     "ename": "PermissionError",
     "evalue": "[Errno 13] Permission denied: '/work/baskarg/iNaturalist/iNat_2526_13mil/train/Apis mellifera'",
     "output_type": "error",
     "traceback": [
      "\u001b[0;31m---------------------------------------------------------------------------\u001b[0m",
      "\u001b[0;31mPermissionError\u001b[0m                           Traceback (most recent call last)",
      "\u001b[0;32m<ipython-input-14-f441e4882197>\u001b[0m in \u001b[0;36m<module>\u001b[0;34m\u001b[0m\n\u001b[0;32m----> 1\u001b[0;31m \u001b[0mfolders\u001b[0m\u001b[0;34m=\u001b[0m\u001b[0mos\u001b[0m\u001b[0;34m.\u001b[0m\u001b[0mlistdir\u001b[0m\u001b[0;34m(\u001b[0m\u001b[0;34m'/work/baskarg/iNaturalist/iNat_2526_13mil/train/Apis mellifera'\u001b[0m\u001b[0;34m)\u001b[0m\u001b[0;34m\u001b[0m\u001b[0;34m\u001b[0m\u001b[0m\n\u001b[0m",
      "\u001b[0;31mPermissionError\u001b[0m: [Errno 13] Permission denied: '/work/baskarg/iNaturalist/iNat_2526_13mil/train/Apis mellifera'"
     ]
    }
   ],
   "source": [
    "folders=os.listdir('/work/baskarg/iNaturalist/iNat_2526_13mil/train/Apis mellifera')"
   ]
  },
  {
   "cell_type": "code",
   "execution_count": 7,
   "id": "f06a1f93",
   "metadata": {},
   "outputs": [],
   "source": [
    "import cv2\n",
    "faulty=[]\n",
    "cnt=0\n",
    "for i in folders:\n",
    "    print(str(cnt+1)+'/'+str(len(folders)))\n",
    "    cnt+=1\n",
    "    try:\n",
    "        image=cv2.imread('/work/baskarg/Mojdeh/iNat_Project-mini-Insecta-2021/Data/Others/iNat_ISU_total/iNat_ISU/train/Apis mellifera/'+i)\n",
    "    except:\n",
    "        faulty.append(i)\n",
    "    "
   ]
  },
  {
   "cell_type": "code",
   "execution_count": null,
   "id": "ab5ed059",
   "metadata": {},
   "outputs": [],
   "source": []
  }
 ],
 "metadata": {
  "kernelspec": {
   "display_name": "Python 3",
   "language": "python",
   "name": "python3"
  },
  "language_info": {
   "codemirror_mode": {
    "name": "ipython",
    "version": 3
   },
   "file_extension": ".py",
   "mimetype": "text/x-python",
   "name": "python",
   "nbconvert_exporter": "python",
   "pygments_lexer": "ipython3",
   "version": "3.6.13"
  }
 },
 "nbformat": 4,
 "nbformat_minor": 5
}
